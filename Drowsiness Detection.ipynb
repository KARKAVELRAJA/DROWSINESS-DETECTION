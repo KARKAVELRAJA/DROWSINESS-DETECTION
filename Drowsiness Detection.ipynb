{
 "cells": [
  {
   "cell_type": "markdown",
   "metadata": {},
   "source": [
    "# Drowsiness Detection"
   ]
  },
  {
   "cell_type": "code",
   "execution_count": 1,
   "metadata": {},
   "outputs": [],
   "source": [
    "# Importing necessary Libraries\n",
    "\n",
    "from   scipy.spatial import distance as dist\n",
    "from   imutils import face_utils\n",
    "import imutils\n",
    "import dlib\n",
    "import cv2\n",
    "import winsound"
   ]
  },
  {
   "cell_type": "code",
   "execution_count": 2,
   "metadata": {},
   "outputs": [],
   "source": [
    "# Importing necessary Algorithms\n",
    "\n",
    "detector  = dlib.get_frontal_face_detector()\n",
    "predictor = dlib.shape_predictor(\"shape_predictor_68_face_landmarks.dat\")"
   ]
  },
  {
   "cell_type": "code",
   "execution_count": 3,
   "metadata": {},
   "outputs": [],
   "source": [
    "# Getting the Co-ordinates for the Left and Right Eye\n",
    "\n",
    "(lstart,lend) = face_utils.FACIAL_LANDMARKS_IDXS[\"left_eye\"]\n",
    "(rstart,rend) = face_utils.FACIAL_LANDMARKS_IDXS[\"right_eye\"]"
   ]
  },
  {
   "cell_type": "code",
   "execution_count": 4,
   "metadata": {},
   "outputs": [],
   "source": [
    "# Creating an User-defined function to determine Eye_Aspect_Ratio\n",
    "\n",
    "def eyeAspectRatio(eye):\n",
    "    # Vertical\n",
    "    a   = dist.euclidean(eye[1], eye[5])\n",
    "    b   = dist.euclidean(eye[2], eye[4])   \n",
    "    # Horizontal\n",
    "    c   = dist.euclidean(eye[0], eye[3])   \n",
    "    ear = (a+b)/(2*c)\n",
    "    return ear"
   ]
  },
  {
   "cell_type": "code",
   "execution_count": 14,
   "metadata": {},
   "outputs": [],
   "source": [
    "# Detecting the Drowsiness\n",
    "\n",
    "count    =  0\n",
    "\n",
    "camera = cv2.VideoCapture(0)\n",
    "while True:\n",
    "    _, frame  = camera.read()\n",
    "    frame     = cv2.flip(frame,1)\n",
    "    frame     = imutils.resize(frame, width=450)\n",
    "    gray      = cv2.cvtColor(frame,cv2.COLOR_BGR2GRAY)\n",
    "    \n",
    "    rects     = detector(gray,0)\n",
    "    for rect in rects:\n",
    "        shape = predictor(gray,rect)\n",
    "        shape = face_utils.shape_to_np(shape)\n",
    "        \n",
    "        lefteye  = shape[lstart:lend]\n",
    "        righteye = shape[rstart:rend]\n",
    "       \n",
    "        \n",
    "        # Drawing the Contours\n",
    "        cv2.drawContours(frame,[cv2.convexHull(lefteye)],-1,(0,0,255),1)\n",
    "        cv2.drawContours(frame,[cv2.convexHull(righteye)],-1,(0,0,255),1)\n",
    "        \n",
    "         \n",
    "        leftear  = eyeAspectRatio(lefteye)\n",
    "        rightear = eyeAspectRatio(righteye)\n",
    "        \n",
    "        ear      = (leftear+rightear) / 2.0\n",
    "        \n",
    "        if ear < 0.3:\n",
    "            count +=1\n",
    "            \n",
    "            if count >= 48:\n",
    "                cv2.putText(frame,\"Drowsiness Detection\",(10,30),cv2.FONT_HERSHEY_SIMPLEX, 0.7, (0,0,255),2)\n",
    "                winsound.Beep(2500,1000)\n",
    "        \n",
    "        else:\n",
    "            count = 0\n",
    "        \n",
    "        \n",
    "    \n",
    "    cv2.imshow(\"frame\",frame)\n",
    "    if cv2.waitKey(1) == ord(\"q\"):\n",
    "        break\n",
    "        \n",
    "camera.release()\n",
    "cv2.destroyAllWindows()"
   ]
  }
 ],
 "metadata": {
  "kernelspec": {
   "display_name": "Python 3",
   "language": "python",
   "name": "python3"
  },
  "language_info": {
   "codemirror_mode": {
    "name": "ipython",
    "version": 3
   },
   "file_extension": ".py",
   "mimetype": "text/x-python",
   "name": "python",
   "nbconvert_exporter": "python",
   "pygments_lexer": "ipython3",
   "version": "3.8.5"
  }
 },
 "nbformat": 4,
 "nbformat_minor": 4
}
